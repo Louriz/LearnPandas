{
 "cells": [
  {
   "cell_type": "markdown",
   "metadata": {},
   "source": [
    "#  How do I sort (trier)a pandas DataFrame or a Series\n",
    "\n"
   ]
  },
  {
   "cell_type": "code",
   "execution_count": 1,
   "metadata": {
    "collapsed": false
   },
   "outputs": [
    {
     "data": {
      "text/html": [
       "<div>\n",
       "<table border=\"1\" class=\"dataframe\">\n",
       "  <thead>\n",
       "    <tr style=\"text-align: right;\">\n",
       "      <th></th>\n",
       "      <th>star_rating</th>\n",
       "      <th>title</th>\n",
       "      <th>content_rating</th>\n",
       "      <th>genre</th>\n",
       "      <th>duration</th>\n",
       "      <th>actors_list</th>\n",
       "    </tr>\n",
       "  </thead>\n",
       "  <tbody>\n",
       "    <tr>\n",
       "      <th>0</th>\n",
       "      <td>9.3</td>\n",
       "      <td>The Shawshank Redemption</td>\n",
       "      <td>R</td>\n",
       "      <td>Crime</td>\n",
       "      <td>142</td>\n",
       "      <td>[u'Tim Robbins', u'Morgan Freeman', u'Bob Gunt...</td>\n",
       "    </tr>\n",
       "    <tr>\n",
       "      <th>1</th>\n",
       "      <td>9.2</td>\n",
       "      <td>The Godfather</td>\n",
       "      <td>R</td>\n",
       "      <td>Crime</td>\n",
       "      <td>175</td>\n",
       "      <td>[u'Marlon Brando', u'Al Pacino', u'James Caan']</td>\n",
       "    </tr>\n",
       "    <tr>\n",
       "      <th>2</th>\n",
       "      <td>9.1</td>\n",
       "      <td>The Godfather: Part II</td>\n",
       "      <td>R</td>\n",
       "      <td>Crime</td>\n",
       "      <td>200</td>\n",
       "      <td>[u'Al Pacino', u'Robert De Niro', u'Robert Duv...</td>\n",
       "    </tr>\n",
       "    <tr>\n",
       "      <th>3</th>\n",
       "      <td>9.0</td>\n",
       "      <td>The Dark Knight</td>\n",
       "      <td>PG-13</td>\n",
       "      <td>Action</td>\n",
       "      <td>152</td>\n",
       "      <td>[u'Christian Bale', u'Heath Ledger', u'Aaron E...</td>\n",
       "    </tr>\n",
       "    <tr>\n",
       "      <th>4</th>\n",
       "      <td>8.9</td>\n",
       "      <td>Pulp Fiction</td>\n",
       "      <td>R</td>\n",
       "      <td>Crime</td>\n",
       "      <td>154</td>\n",
       "      <td>[u'John Travolta', u'Uma Thurman', u'Samuel L....</td>\n",
       "    </tr>\n",
       "  </tbody>\n",
       "</table>\n",
       "</div>"
      ],
      "text/plain": [
       "   star_rating                     title content_rating   genre  duration  \\\n",
       "0          9.3  The Shawshank Redemption              R   Crime       142   \n",
       "1          9.2             The Godfather              R   Crime       175   \n",
       "2          9.1    The Godfather: Part II              R   Crime       200   \n",
       "3          9.0           The Dark Knight          PG-13  Action       152   \n",
       "4          8.9              Pulp Fiction              R   Crime       154   \n",
       "\n",
       "                                         actors_list  \n",
       "0  [u'Tim Robbins', u'Morgan Freeman', u'Bob Gunt...  \n",
       "1    [u'Marlon Brando', u'Al Pacino', u'James Caan']  \n",
       "2  [u'Al Pacino', u'Robert De Niro', u'Robert Duv...  \n",
       "3  [u'Christian Bale', u'Heath Ledger', u'Aaron E...  \n",
       "4  [u'John Travolta', u'Uma Thurman', u'Samuel L....  "
      ]
     },
     "execution_count": 1,
     "metadata": {},
     "output_type": "execute_result"
    }
   ],
   "source": [
    "import pandas as pd \n",
    "movies=pd.read_csv('http://bit.ly/imdbratings')\n",
    "movies.head()\n"
   ]
  },
  {
   "cell_type": "code",
   "execution_count": 6,
   "metadata": {
    "collapsed": false
   },
   "outputs": [
    {
     "data": {
      "text/plain": [
       "<bound method Series.sort_values of 0                               The Shawshank Redemption\n",
       "1                                          The Godfather\n",
       "2                                 The Godfather: Part II\n",
       "3                                        The Dark Knight\n",
       "4                                           Pulp Fiction\n",
       "5                                           12 Angry Men\n",
       "6                         The Good, the Bad and the Ugly\n",
       "7          The Lord of the Rings: The Return of the King\n",
       "8                                       Schindler's List\n",
       "9                                             Fight Club\n",
       "10     The Lord of the Rings: The Fellowship of the Ring\n",
       "11                                             Inception\n",
       "12        Star Wars: Episode V - The Empire Strikes Back\n",
       "13                                          Forrest Gump\n",
       "14                 The Lord of the Rings: The Two Towers\n",
       "15                                          Interstellar\n",
       "16                       One Flew Over the Cuckoo's Nest\n",
       "17                                         Seven Samurai\n",
       "18                                            Goodfellas\n",
       "19                                             Star Wars\n",
       "20                                            The Matrix\n",
       "21                                           City of God\n",
       "22                                 It's a Wonderful Life\n",
       "23                                    The Usual Suspects\n",
       "24                                                 Se7en\n",
       "25                                     Life Is Beautiful\n",
       "26                          Once Upon a Time in the West\n",
       "27                              The Silence of the Lambs\n",
       "28                                Leon: The Professional\n",
       "29                                           City Lights\n",
       "                             ...                        \n",
       "949                                           Home Alone\n",
       "950                                                Bound\n",
       "951                                        Sleepy Hollow\n",
       "952                                         Pirate Radio\n",
       "953                                The NeverEnding Story\n",
       "954                                                X-Men\n",
       "955                                     Zero Dark Thirty\n",
       "956                             Manhattan Murder Mystery\n",
       "957                          National Lampoon's Vacation\n",
       "958                                   My Sister's Keeper\n",
       "959                                 Deconstructing Harry\n",
       "960                                     The Way Way Back\n",
       "961                                               Capote\n",
       "962                                   Driving Miss Daisy\n",
       "963                                      La Femme Nikita\n",
       "964                                              Lincoln\n",
       "965                                            Limitless\n",
       "966                                   The Simpsons Movie\n",
       "967                                             The Rock\n",
       "968                                  The English Patient\n",
       "969                                  Law Abiding Citizen\n",
       "970                                          Wonder Boys\n",
       "971                                   Death at a Funeral\n",
       "972                                       Blue Valentine\n",
       "973                                The Cider House Rules\n",
       "974                                              Tootsie\n",
       "975                          Back to the Future Part III\n",
       "976      Master and Commander: The Far Side of the World\n",
       "977                                          Poltergeist\n",
       "978                                          Wall Street\n",
       "Name: title, dtype: object>"
      ]
     },
     "execution_count": 6,
     "metadata": {},
     "output_type": "execute_result"
    }
   ],
   "source": [
    "movies.title.sort_values"
   ]
  },
  {
   "cell_type": "code",
   "execution_count": 7,
   "metadata": {
    "collapsed": false
   },
   "outputs": [
    {
     "data": {
      "text/plain": [
       "864                                  [Rec]\n",
       "526                                   Zulu\n",
       "615                             Zombieland\n",
       "677                                 Zodiac\n",
       "955                       Zero Dark Thirty\n",
       "535                                  Zelig\n",
       "280                     Young Frankenstein\n",
       "96                                 Yojimbo\n",
       "235                                Yip Man\n",
       "403                             Ying xiong\n",
       "695                      Y Tu Mama Tambien\n",
       "871                                     X2\n",
       "532                     X-Men: First Class\n",
       "248             X-Men: Days of Future Past\n",
       "954                                  X-Men\n",
       "518                         Wreck-It Ralph\n",
       "970                            Wonder Boys\n",
       "65             Witness for the Prosecution\n",
       "920                                Witness\n",
       "483                           Withnail & I\n",
       "270                        Wings of Desire\n",
       "497    Willy Wonka & the Chocolate Factory\n",
       "127                      Wild Strawberries\n",
       "219        Who's Afraid of Virginia Woolf?\n",
       "669                Who Framed Roger Rabbit\n",
       "33                                Whiplash\n",
       "649                      Where Eagles Dare\n",
       "719                When Harry Met Sally...\n",
       "562            What's Eating Gilbert Grape\n",
       "207       What Ever Happened to Baby Jane?\n",
       "                      ...                 \n",
       "426                              A Prophet\n",
       "865                        A Perfect World\n",
       "869              A Nightmare on Elm Street\n",
       "883                  A History of Violence\n",
       "612                     A Hard Day's Night\n",
       "276                   A Fistful of Dollars\n",
       "750                    A Fish Called Wanda\n",
       "716                         A Few Good Men\n",
       "86                      A Clockwork Orange\n",
       "266                      A Christmas Story\n",
       "571                           A Bronx Tale\n",
       "941                       A Bridge Too Far\n",
       "170                       A Beautiful Mind\n",
       "203                                  8 1/2\n",
       "597                                  50/50\n",
       "824                                     42\n",
       "427           4 Months, 3 Weeks and 2 Days\n",
       "555                           3:10 to Yuma\n",
       "570                                    300\n",
       "225                                 3-Iron\n",
       "60                                3 Idiots\n",
       "708                       28 Days Later...\n",
       "624                              25th Hour\n",
       "596                               21 Grams\n",
       "910                                   2046\n",
       "110                  2001: A Space Odyssey\n",
       "698                              127 Hours\n",
       "201                       12 Years a Slave\n",
       "5                             12 Angry Men\n",
       "542                   (500) Days of Summer\n",
       "Name: title, dtype: object"
      ]
     },
     "execution_count": 7,
     "metadata": {},
     "output_type": "execute_result"
    }
   ],
   "source": [
    "movies.title.sort_values(ascending=False)"
   ]
  },
  {
   "cell_type": "code",
   "execution_count": 9,
   "metadata": {
    "collapsed": false
   },
   "outputs": [
    {
     "data": {
      "text/html": [
       "<div>\n",
       "<table border=\"1\" class=\"dataframe\">\n",
       "  <thead>\n",
       "    <tr style=\"text-align: right;\">\n",
       "      <th></th>\n",
       "      <th>star_rating</th>\n",
       "      <th>title</th>\n",
       "      <th>content_rating</th>\n",
       "      <th>genre</th>\n",
       "      <th>duration</th>\n",
       "      <th>actors_list</th>\n",
       "    </tr>\n",
       "  </thead>\n",
       "  <tbody>\n",
       "    <tr>\n",
       "      <th>476</th>\n",
       "      <td>7.8</td>\n",
       "      <td>Hamlet</td>\n",
       "      <td>PG-13</td>\n",
       "      <td>Drama</td>\n",
       "      <td>242</td>\n",
       "      <td>[u'Kenneth Branagh', u'Julie Christie', u'Dere...</td>\n",
       "    </tr>\n",
       "    <tr>\n",
       "      <th>157</th>\n",
       "      <td>8.2</td>\n",
       "      <td>Gone with the Wind</td>\n",
       "      <td>G</td>\n",
       "      <td>Drama</td>\n",
       "      <td>238</td>\n",
       "      <td>[u'Clark Gable', u'Vivien Leigh', u'Thomas Mit...</td>\n",
       "    </tr>\n",
       "    <tr>\n",
       "      <th>78</th>\n",
       "      <td>8.4</td>\n",
       "      <td>Once Upon a Time in America</td>\n",
       "      <td>R</td>\n",
       "      <td>Crime</td>\n",
       "      <td>229</td>\n",
       "      <td>[u'Robert De Niro', u'James Woods', u'Elizabet...</td>\n",
       "    </tr>\n",
       "    <tr>\n",
       "      <th>142</th>\n",
       "      <td>8.3</td>\n",
       "      <td>Lagaan: Once Upon a Time in India</td>\n",
       "      <td>PG</td>\n",
       "      <td>Adventure</td>\n",
       "      <td>224</td>\n",
       "      <td>[u'Aamir Khan', u'Gracy Singh', u'Rachel Shell...</td>\n",
       "    </tr>\n",
       "    <tr>\n",
       "      <th>445</th>\n",
       "      <td>7.9</td>\n",
       "      <td>The Ten Commandments</td>\n",
       "      <td>APPROVED</td>\n",
       "      <td>Adventure</td>\n",
       "      <td>220</td>\n",
       "      <td>[u'Charlton Heston', u'Yul Brynner', u'Anne Ba...</td>\n",
       "    </tr>\n",
       "  </tbody>\n",
       "</table>\n",
       "</div>"
      ],
      "text/plain": [
       "     star_rating                              title content_rating      genre  \\\n",
       "476          7.8                             Hamlet          PG-13      Drama   \n",
       "157          8.2                 Gone with the Wind              G      Drama   \n",
       "78           8.4        Once Upon a Time in America              R      Crime   \n",
       "142          8.3  Lagaan: Once Upon a Time in India             PG  Adventure   \n",
       "445          7.9               The Ten Commandments       APPROVED  Adventure   \n",
       "\n",
       "     duration                                        actors_list  \n",
       "476       242  [u'Kenneth Branagh', u'Julie Christie', u'Dere...  \n",
       "157       238  [u'Clark Gable', u'Vivien Leigh', u'Thomas Mit...  \n",
       "78        229  [u'Robert De Niro', u'James Woods', u'Elizabet...  \n",
       "142       224  [u'Aamir Khan', u'Gracy Singh', u'Rachel Shell...  \n",
       "445       220  [u'Charlton Heston', u'Yul Brynner', u'Anne Ba...  "
      ]
     },
     "execution_count": 9,
     "metadata": {},
     "output_type": "execute_result"
    }
   ],
   "source": [
    "movies.sort_values('duration', ascending=False).head(5)\n"
   ]
  },
  {
   "cell_type": "code",
   "execution_count": null,
   "metadata": {
    "collapsed": true
   },
   "outputs": [],
   "source": []
  }
 ],
 "metadata": {
  "kernelspec": {
   "display_name": "Python [default]",
   "language": "python",
   "name": "python3"
  },
  "language_info": {
   "codemirror_mode": {
    "name": "ipython",
    "version": 3
   },
   "file_extension": ".py",
   "mimetype": "text/x-python",
   "name": "python",
   "nbconvert_exporter": "python",
   "pygments_lexer": "ipython3",
   "version": "3.5.2"
  }
 },
 "nbformat": 4,
 "nbformat_minor": 1
}
