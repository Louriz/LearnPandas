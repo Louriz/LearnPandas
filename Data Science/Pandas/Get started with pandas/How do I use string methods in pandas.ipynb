{
 "cells": [
  {
   "cell_type": "markdown",
   "metadata": {},
   "source": [
    "# How do I use string methods in pandas"
   ]
  },
  {
   "cell_type": "code",
   "execution_count": 2,
   "metadata": {
    "collapsed": true
   },
   "outputs": [],
   "source": [
    "import pandas as pd\n",
    "orders=pd.read_table('http://bit.ly/chiporders')"
   ]
  },
  {
   "cell_type": "code",
   "execution_count": 4,
   "metadata": {
    "collapsed": false
   },
   "outputs": [
    {
     "data": {
      "text/html": [
       "<div>\n",
       "<table border=\"1\" class=\"dataframe\">\n",
       "  <thead>\n",
       "    <tr style=\"text-align: right;\">\n",
       "      <th></th>\n",
       "      <th>order_id</th>\n",
       "      <th>quantity</th>\n",
       "      <th>item_name</th>\n",
       "      <th>choice_description</th>\n",
       "      <th>item_price</th>\n",
       "    </tr>\n",
       "  </thead>\n",
       "  <tbody>\n",
       "    <tr>\n",
       "      <th>0</th>\n",
       "      <td>1</td>\n",
       "      <td>1</td>\n",
       "      <td>Chips and Fresh Tomato Salsa</td>\n",
       "      <td>NaN</td>\n",
       "      <td>$2.39</td>\n",
       "    </tr>\n",
       "    <tr>\n",
       "      <th>1</th>\n",
       "      <td>1</td>\n",
       "      <td>1</td>\n",
       "      <td>Izze</td>\n",
       "      <td>[Clementine]</td>\n",
       "      <td>$3.39</td>\n",
       "    </tr>\n",
       "  </tbody>\n",
       "</table>\n",
       "</div>"
      ],
      "text/plain": [
       "   order_id  quantity                     item_name choice_description  \\\n",
       "0         1         1  Chips and Fresh Tomato Salsa                NaN   \n",
       "1         1         1                          Izze       [Clementine]   \n",
       "\n",
       "  item_price  \n",
       "0     $2.39   \n",
       "1     $3.39   "
      ]
     },
     "execution_count": 4,
     "metadata": {},
     "output_type": "execute_result"
    }
   ],
   "source": [
    "orders.head(2)"
   ]
  },
  {
   "cell_type": "code",
   "execution_count": 5,
   "metadata": {
    "collapsed": false
   },
   "outputs": [
    {
     "data": {
      "text/plain": [
       "(4622, 5)"
      ]
     },
     "execution_count": 5,
     "metadata": {},
     "output_type": "execute_result"
    }
   ],
   "source": [
    "orders.shape"
   ]
  },
  {
   "cell_type": "code",
   "execution_count": 11,
   "metadata": {
    "collapsed": false
   },
   "outputs": [
    {
     "data": {
      "text/plain": [
       "0             CHIPS AND FRESH TOMATO SALSA\n",
       "1                                     IZZE\n",
       "2                         NANTUCKET NECTAR\n",
       "3    CHIPS AND TOMATILLO-GREEN CHILI SALSA\n",
       "4                             CHICKEN BOWL\n",
       "Name: item_name, dtype: object"
      ]
     },
     "execution_count": 11,
     "metadata": {},
     "output_type": "execute_result"
    }
   ],
   "source": [
    "orders.item_name.str.upper().head()  # use .str  for string in order to apply methods allowed by str"
   ]
  },
  {
   "cell_type": "code",
   "execution_count": 14,
   "metadata": {
    "collapsed": false
   },
   "outputs": [
    {
     "data": {
      "text/html": [
       "<div>\n",
       "<table border=\"1\" class=\"dataframe\">\n",
       "  <thead>\n",
       "    <tr style=\"text-align: right;\">\n",
       "      <th></th>\n",
       "      <th>order_id</th>\n",
       "      <th>quantity</th>\n",
       "      <th>item_name</th>\n",
       "      <th>choice_description</th>\n",
       "      <th>item_price</th>\n",
       "    </tr>\n",
       "  </thead>\n",
       "  <tbody>\n",
       "    <tr>\n",
       "      <th>0</th>\n",
       "      <td>1</td>\n",
       "      <td>1</td>\n",
       "      <td>Chips and Fresh Tomato Salsa</td>\n",
       "      <td>NaN</td>\n",
       "      <td>$2.39</td>\n",
       "    </tr>\n",
       "    <tr>\n",
       "      <th>3</th>\n",
       "      <td>1</td>\n",
       "      <td>1</td>\n",
       "      <td>Chips and Tomatillo-Green Chili Salsa</td>\n",
       "      <td>NaN</td>\n",
       "      <td>$2.39</td>\n",
       "    </tr>\n",
       "    <tr>\n",
       "      <th>6</th>\n",
       "      <td>3</td>\n",
       "      <td>1</td>\n",
       "      <td>Side of Chips</td>\n",
       "      <td>NaN</td>\n",
       "      <td>$1.69</td>\n",
       "    </tr>\n",
       "    <tr>\n",
       "      <th>10</th>\n",
       "      <td>5</td>\n",
       "      <td>1</td>\n",
       "      <td>Chips and Guacamole</td>\n",
       "      <td>NaN</td>\n",
       "      <td>$4.45</td>\n",
       "    </tr>\n",
       "    <tr>\n",
       "      <th>14</th>\n",
       "      <td>7</td>\n",
       "      <td>1</td>\n",
       "      <td>Chips and Guacamole</td>\n",
       "      <td>NaN</td>\n",
       "      <td>$4.45</td>\n",
       "    </tr>\n",
       "  </tbody>\n",
       "</table>\n",
       "</div>"
      ],
      "text/plain": [
       "    order_id  quantity                              item_name  \\\n",
       "0          1         1           Chips and Fresh Tomato Salsa   \n",
       "3          1         1  Chips and Tomatillo-Green Chili Salsa   \n",
       "6          3         1                          Side of Chips   \n",
       "10         5         1                    Chips and Guacamole   \n",
       "14         7         1                    Chips and Guacamole   \n",
       "\n",
       "   choice_description item_price  \n",
       "0                 NaN     $2.39   \n",
       "3                 NaN     $2.39   \n",
       "6                 NaN     $1.69   \n",
       "10                NaN     $4.45   \n",
       "14                NaN     $4.45   "
      ]
     },
     "execution_count": 14,
     "metadata": {},
     "output_type": "execute_result"
    }
   ],
   "source": [
    "orders[orders.item_name.str.contains('Chips')].head()  # get a dataframe where item_name contains Chips"
   ]
  },
  {
   "cell_type": "code",
   "execution_count": 16,
   "metadata": {
    "collapsed": false
   },
   "outputs": [
    {
     "data": {
      "text/plain": [
       "0     True\n",
       "1    False\n",
       "2    False\n",
       "3     True\n",
       "4    False\n",
       "Name: item_name, dtype: bool"
      ]
     },
     "execution_count": 16,
     "metadata": {},
     "output_type": "execute_result"
    }
   ],
   "source": [
    "orders.item_name.str.contains('Chips').head()  # get a serie of either item_name contains or not Chips"
   ]
  },
  {
   "cell_type": "code",
   "execution_count": 19,
   "metadata": {
    "collapsed": false
   },
   "outputs": [
    {
     "data": {
      "text/plain": [
       "0                                                     NaN\n",
       "1                                              Clementine\n",
       "2                                                   Apple\n",
       "3                                                     NaN\n",
       "4       Tomatillo-Red Chili Salsa (Hot), Black Beans, ...\n",
       "5       Fresh Tomato Salsa (Mild), Rice, Cheese, Sour ...\n",
       "6                                                     NaN\n",
       "7       Tomatillo Red Chili Salsa, Fajita Vegetables, ...\n",
       "8       Tomatillo Green Chili Salsa, Pinto Beans, Chee...\n",
       "9       Fresh Tomato Salsa, Rice, Black Beans, Pinto B...\n",
       "10                                                    NaN\n",
       "11      Roasted Chili Corn Salsa, Fajita Vegetables, R...\n",
       "12      Roasted Chili Corn Salsa, Rice, Black Beans, C...\n",
       "13      Fresh Tomato Salsa, Fajita Vegetables, Rice, C...\n",
       "14                                                    NaN\n",
       "15                                                    NaN\n",
       "16      Tomatillo-Green Chili Salsa (Medium), Pinto Be...\n",
       "17      Fresh Tomato Salsa (Mild), Black Beans, Rice, ...\n",
       "18                                                 Sprite\n",
       "19      Tomatillo Red Chili Salsa, Fajita Vegetables, ...\n",
       "20                                                    NaN\n",
       "21      Fresh Tomato Salsa (Mild), Tomatillo-Green Chi...\n",
       "22                                     Pomegranate Cherry\n",
       "23      Tomatillo-Green Chili Salsa (Medium), Tomatill...\n",
       "24                                             Grapefruit\n",
       "25                                                    NaN\n",
       "26      Roasted Chili Corn Salsa (Medium), Pinto Beans...\n",
       "27      Tomatillo-Green Chili Salsa (Medium), Roasted ...\n",
       "28                                             Dr. Pepper\n",
       "29      Tomatillo-Green Chili Salsa (Medium), Pinto Be...\n",
       "                              ...                        \n",
       "4592    Tomatillo Red Chili Salsa, Rice, Fajita Vegeta...\n",
       "4593    Roasted Chili Corn Salsa, Rice, Sour Cream, Ch...\n",
       "4594    Roasted Chili Corn Salsa, Pinto Beans, Sour Cr...\n",
       "4595       Tomatillo Green Chili Salsa, Rice, Black Beans\n",
       "4596                                                  NaN\n",
       "4597                                               Nestea\n",
       "4598                                                  NaN\n",
       "4599            Roasted Chili Corn Salsa, Cheese, Lettuce\n",
       "4600                                                  NaN\n",
       "4601                                            Diet Coke\n",
       "4602                          Tomatillo Green Chili Salsa\n",
       "4603                          Tomatillo Green Chili Salsa\n",
       "4604    Fresh Tomato Salsa, Rice, Black Beans, Cheese,...\n",
       "4605                                                  NaN\n",
       "4606                                                 Coke\n",
       "4607    Tomatillo Green Chili Salsa, Rice, Cheese, Sou...\n",
       "4608    Tomatillo Red Chili Salsa, Fajita Vegetables, ...\n",
       "4609                                               Sprite\n",
       "4610    Fresh Tomato Salsa, Rice, Sour Cream, Cheese, ...\n",
       "4611    Tomatillo Green Chili Salsa, Rice, Fajita Vege...\n",
       "4612    Fresh Tomato Salsa, Fajita Vegetables, Rice, B...\n",
       "4613                                                  NaN\n",
       "4614                                                  NaN\n",
       "4615         Fresh Tomato Salsa, Rice, Cheese, Sour Cream\n",
       "4616                                                  NaN\n",
       "4617    Fresh Tomato Salsa, Rice, Black Beans, Sour Cr...\n",
       "4618    Fresh Tomato Salsa, Rice, Sour Cream, Cheese, ...\n",
       "4619    Fresh Tomato Salsa, Fajita Vegetables, Pinto B...\n",
       "4620       Fresh Tomato Salsa, Fajita Vegetables, Lettuce\n",
       "4621    Fresh Tomato Salsa, Fajita Vegetables, Pinto B...\n",
       "Name: choice_description, dtype: object"
      ]
     },
     "execution_count": 19,
     "metadata": {},
     "output_type": "execute_result"
    }
   ],
   "source": [
    "orders.choice_description.str.replace('[','').str.replace(']','').head\n"
   ]
  },
  {
   "cell_type": "code",
   "execution_count": null,
   "metadata": {
    "collapsed": true
   },
   "outputs": [],
   "source": []
  }
 ],
 "metadata": {
  "kernelspec": {
   "display_name": "Python [default]",
   "language": "python",
   "name": "python3"
  },
  "language_info": {
   "codemirror_mode": {
    "name": "ipython",
    "version": 3
   },
   "file_extension": ".py",
   "mimetype": "text/x-python",
   "name": "python",
   "nbconvert_exporter": "python",
   "pygments_lexer": "ipython3",
   "version": "3.5.2"
  }
 },
 "nbformat": 4,
 "nbformat_minor": 1
}
